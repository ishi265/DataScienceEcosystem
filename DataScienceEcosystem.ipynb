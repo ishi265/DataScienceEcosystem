{
 "cells": [
  {
   "cell_type": "markdown",
   "id": "478fb8a2-63f7-4484-a444-32c465acabdc",
   "metadata": {},
   "source": [
    "# Data Science Tools and Ecosystem"
   ]
  },
  {
   "cell_type": "markdown",
   "id": "33df8daf-de4c-4ba8-b516-fec687e6f392",
   "metadata": {},
   "source": [
    "In this notebook, Data Science Tools and Ecosystem are summarized."
   ]
  },
  {
   "cell_type": "markdown",
   "id": "deae8ad6-d058-4557-9ded-ca4dd5271911",
   "metadata": {},
   "source": [
    "Some of the popular languages that Data Scientists use are:\n",
    "1. Python\n",
    "2. R\n",
    "3. Javascript"
   ]
  },
  {
   "cell_type": "markdown",
   "id": "a006c31a-e028-42f4-800d-3aa45f52dd8c",
   "metadata": {},
   "source": [
    "Some of the commonly used libraries used by Data Scientists include:\n",
    "1. NumPy\n",
    "2. pandas\n",
    "3. Matplotlib"
   ]
  },
  {
   "cell_type": "markdown",
   "id": "f76404cd-43a0-4b12-a2ce-09b258aead11",
   "metadata": {},
   "source": [
    "|Data Science Tools|\n",
    "|------------------|\n",
    "|Jupyter Notebook|\n",
    "|R Studio|\n",
    "|Visual Studio|"
   ]
  },
  {
   "cell_type": "markdown",
   "id": "5c62e0f3-a190-49be-805b-aabb6e60ffb6",
   "metadata": {},
   "source": [
    "### Below are a few examples of evaluating arithmetic expressions in Python"
   ]
  },
  {
   "cell_type": "code",
   "execution_count": 6,
   "id": "ebf72064-869a-41bf-a565-aed53cc2c6ad",
   "metadata": {},
   "outputs": [
    {
     "data": {
      "text/plain": [
       "17"
      ]
     },
     "execution_count": 6,
     "metadata": {},
     "output_type": "execute_result"
    }
   ],
   "source": [
    "#This a simple arithmetic expression to mutiply then add integers\n",
    "(3*4)+5"
   ]
  },
  {
   "cell_type": "code",
   "execution_count": 7,
   "id": "1e729b8a-ee61-432b-afa4-8468f75655b7",
   "metadata": {},
   "outputs": [
    {
     "data": {
      "text/plain": [
       "3.3333333333333335"
      ]
     },
     "execution_count": 7,
     "metadata": {},
     "output_type": "execute_result"
    }
   ],
   "source": [
    "#This will convert 200 minutes to hours by diving by 60\n",
    "200 / 60"
   ]
  },
  {
   "cell_type": "markdown",
   "id": "01fa2f96-04a0-45b4-818a-3566be53e21a",
   "metadata": {},
   "source": [
    "***Objectives:*** \n",
    "* Create a Jupyter Notebook \n",
    "* Insert code and markdown cells \n",
    "* Share your notebook through GitHub \n",
    "* R \n",
    "* Python"
   ]
  },
  {
   "cell_type": "markdown",
   "id": "d6607276-3084-4c01-b9e8-4aaa9051db69",
   "metadata": {},
   "source": [
    "## Author\n",
    "Ishamel A. Chotsonga"
   ]
  },
  {
   "cell_type": "code",
   "execution_count": null,
   "id": "5418b8a9-8fdf-4daa-8f2f-b6413a584eef",
   "metadata": {},
   "outputs": [],
   "source": []
  }
 ],
 "metadata": {
  "kernelspec": {
   "display_name": "Python 3 (ipykernel)",
   "language": "python",
   "name": "python3"
  },
  "language_info": {
   "codemirror_mode": {
    "name": "ipython",
    "version": 3
   },
   "file_extension": ".py",
   "mimetype": "text/x-python",
   "name": "python",
   "nbconvert_exporter": "python",
   "pygments_lexer": "ipython3",
   "version": "3.12.2"
  }
 },
 "nbformat": 4,
 "nbformat_minor": 5
}
